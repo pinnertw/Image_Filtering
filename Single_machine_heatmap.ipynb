{
 "cells": [
  {
   "cell_type": "code",
   "execution_count": null,
   "metadata": {},
   "outputs": [],
   "source": [
    "import numpy as np\n",
    "\n",
    "#single_machine_heatmap : ./single_machine_heatmap.sh\n",
    "with open(\"single_machine_heatmap\", \"r\") as f:\n",
    "    lines = f.readlines()\n",
    "    f.close()"
   ]
  },
  {
   "cell_type": "code",
   "execution_count": null,
   "metadata": {},
   "outputs": [],
   "source": [
    "# In order : name load_time method blur sobel (blur+sobel) export\n",
    "print(lines[25])\n",
    "print(lines[26])"
   ]
  },
  {
   "cell_type": "code",
   "execution_count": null,
   "metadata": {},
   "outputs": [],
   "source": [
    "line = lines[0]\n",
    "terms = line.split(\" \")\n",
    "file = terms[0].split(\"/\")[-1]\n",
    "file = file.split(\".\")[0]\n",
    "width, height = file.split(\"x\")\n",
    "load_time = float(terms[1])\n",
    "method = terms[2]\n",
    "blur_time = float(terms[3])\n",
    "sobel_time = float(terms[4])\n",
    "filter_time = float(terms[5])\n",
    "export_time = float(terms[6])"
   ]
  },
  {
   "cell_type": "code",
   "execution_count": null,
   "metadata": {},
   "outputs": [],
   "source": [
    "print(width, height, load_time, method, blur_time, sobel_time, filter_time, export_time)"
   ]
  },
  {
   "cell_type": "code",
   "execution_count": null,
   "metadata": {},
   "outputs": [],
   "source": [
    "total_test_per_file = 2\n",
    "n = len(lines) // total_test_per_file\n",
    "\n",
    "height_min = 1000\n",
    "step = 100\n",
    "\n",
    "openmp = np.zeros((9, 9, 5))\n",
    "cuda = np.zeros((9, 9, 5))\n",
    "\n",
    "for line in lines:\n",
    "    terms = line.split(\" \")\n",
    "    file = terms[0].split(\"/\")[-1]\n",
    "    file = file.split(\".\")[0]\n",
    "    \n",
    "    width, height = map(int, file.split(\"x\"))\n",
    "    load_time = float(terms[1])\n",
    "    method = terms[2]\n",
    "    blur_time = float(terms[3])\n",
    "    sobel_time = float(terms[4])\n",
    "    filter_time = float(terms[5])\n",
    "    export_time = float(terms[6])\n",
    "    times = np.array([load_time, blur_time, sobel_time, filter_time, export_time])\n",
    "    \n",
    "    if method == \"CUDA\":\n",
    "        i = (width - 1000) // 500\n",
    "        j = (height - 1000) // 500\n",
    "        cuda[j][i] = times\n",
    "    elif \"OpenMP\" in method:\n",
    "        i = (width - 1000) // 500\n",
    "        j = (height - 1000) // 500\n",
    "        openmp[j][i] = times"
   ]
  },
  {
   "cell_type": "code",
   "execution_count": null,
   "metadata": {},
   "outputs": [],
   "source": [
    "import matplotlib.pyplot as plt"
   ]
  },
  {
   "cell_type": "markdown",
   "metadata": {},
   "source": [
    "## Different time"
   ]
  },
  {
   "cell_type": "code",
   "execution_count": null,
   "metadata": {},
   "outputs": [],
   "source": [
    "name = [\"loading\", \"blur\", \"sobel\", \"filters\", \"export\"]\n",
    "for i in range(5):\n",
    "    plt.figure()\n",
    "    im = plt.imshow(cuda[:, :, i] - openmp[:, :, i], cmap=\"rainbow\")\n",
    "    plt.colorbar(im)\n",
    "    plt.title(\"Difference {} time\\n greater : better using openmp\".format(name[i]))\n",
    "    plt.xticks([i for i in range(0, 9, 2)], labels=[1000 + 500 * i for i in range(0, 9, 2)])\n",
    "    plt.yticks([i for i in range(0, 9, 2)], labels=[1000 + 500 * i for i in range(0, 9, 2)])\n",
    "    plt.show()"
   ]
  }
 ],
 "metadata": {
  "kernelspec": {
   "display_name": "Python 3",
   "language": "python",
   "name": "python3"
  },
  "language_info": {
   "codemirror_mode": {
    "name": "ipython",
    "version": 3
   },
   "file_extension": ".py",
   "mimetype": "text/x-python",
   "name": "python",
   "nbconvert_exporter": "python",
   "pygments_lexer": "ipython3",
   "version": "3.8.5"
  }
 },
 "nbformat": 4,
 "nbformat_minor": 4
}
